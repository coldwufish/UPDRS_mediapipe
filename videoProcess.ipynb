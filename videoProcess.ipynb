{
 "cells": [
  {
   "cell_type": "code",
   "execution_count": null,
   "metadata": {},
   "outputs": [],
   "source": [
    "import numpy as np\n",
    "import cv2\n",
    "import matplotlib.pyplot as plt"
   ]
  },
  {
   "cell_type": "code",
   "execution_count": null,
   "metadata": {},
   "outputs": [],
   "source": [
    "# Read video with OpenCV.\n",
    "cap=cv2.VideoCapture('/home/johnson/tremor_dataset/T022_Right/Rest/kinect.avi')\n",
    "#cap=cv2.VideoCapture('../UPDRS_video/Tim_Tremor/t008_crop_256i.mp4')\n",
    "#cap = cv2.VideoCapture('../UPDRS_result/optical/t008_256.mp4')\n",
    "\n",
    "## Get video info\n",
    "RES=(round(cap.get(cv2.CAP_PROP_FRAME_WIDTH)),round(cap.get(cv2.CAP_PROP_FRAME_HEIGHT)))\n",
    "fps = round(cap.get(cv2.CAP_PROP_FPS))\n",
    "\n",
    "#create video writer to write detected_video\n",
    "output_video = \"../UPDRS_video/Tim_Tremor/t022_crop_256_10s.mp4\"\n",
    "fourcc = cv2.VideoWriter_fourcc(*'mp4v')\n",
    "out = cv2.VideoWriter(output_video, fourcc, fps, (256,256))"
   ]
  },
  {
   "cell_type": "code",
   "execution_count": null,
   "metadata": {},
   "outputs": [],
   "source": [
    "#store each frame in video\n",
    "frame_count = 0\n",
    "img_list = []\n",
    "while(cap.isOpened()):\n",
    "    ret, frame = cap.read()\n",
    "\n",
    "    if ret == True:\n",
    "        frame_count+=1\n",
    "        img_list.append(frame)\n",
    "\n",
    "    else:\n",
    "        break\n",
    "cap.release()\n"
   ]
  },
  {
   "cell_type": "code",
   "execution_count": null,
   "metadata": {},
   "outputs": [],
   "source": [
    "#store each frame in video\n",
    "frame_count = 0\n",
    "img_list = []\n",
    "while(cap.isOpened()):\n",
    "    ret, frame = cap.read()\n",
    "\n",
    "    if ret == True:\n",
    "        frame = frame[200:456,150:406]\n",
    "        if 0 <= frame_count <= 299:\n",
    "            out.write(frame)\n",
    "        frame_count+=1\n",
    "        #out.write(frame)\n",
    "\n",
    "    else:\n",
    "        break\n",
    "\n",
    "out.release()\n",
    "cap.release()\n"
   ]
  },
  {
   "cell_type": "code",
   "execution_count": null,
   "metadata": {},
   "outputs": [],
   "source": [
    "copy = img_list[49][256+90:256+120,40:70]\n",
    "plt.imshow(cv2.cvtColor(copy, cv2.COLOR_BGR2RGB))\n",
    "copy.shape"
   ]
  },
  {
   "cell_type": "code",
   "execution_count": null,
   "metadata": {},
   "outputs": [],
   "source": [
    "#copy = img_list[0][700:828,700:956]\n",
    "copy = img_list[0][200:456,150:406]\n",
    "plt.imshow(cv2.cvtColor(copy, cv2.COLOR_BGR2RGB))\n",
    "copy.shape"
   ]
  },
  {
   "cell_type": "code",
   "execution_count": null,
   "metadata": {},
   "outputs": [],
   "source": [
    "for i in img_list:\n",
    "    out.write(i)\n",
    "out.release()"
   ]
  },
  {
   "cell_type": "code",
   "execution_count": null,
   "metadata": {},
   "outputs": [],
   "source": [
    "copy = img_list[1].copy()\n",
    "#do_mosaic(copy, 300, 100, 350, 650,neighbor=30)\n",
    "copy = cv2.resize(copy, (512, 960), interpolation=cv2.INTER_AREA)\n",
    "plt.imshow(cv2.cvtColor(copy, cv2.COLOR_BGR2RGB))\n",
    "#plt.savefig(\"grasp002.png\")\n",
    "cv2.imwrite(\"grasp001.jpg\",copy)"
   ]
  },
  {
   "cell_type": "code",
   "execution_count": null,
   "metadata": {},
   "outputs": [],
   "source": [
    "for i in range(len(img_list)):\n",
    "    cv2.putText(img_list[i],str(i),(0, 30), cv2.FONT_HERSHEY_SIMPLEX,1.5, (0, 0, 0), 3, cv2.LINE_AA)\n",
    "    out.write(img_list[i])\n",
    "\n",
    "out.release()"
   ]
  }
 ],
 "metadata": {
  "interpreter": {
   "hash": "f35382d907cb9c24a78f87fdb40cfd6f3acc0f7e4b3752e533ecdd62cd27e97f"
  },
  "kernelspec": {
   "display_name": "Python 3.9.9 64-bit ('py3.9': venv)",
   "name": "python3"
  },
  "language_info": {
   "codemirror_mode": {
    "name": "ipython",
    "version": 3
   },
   "file_extension": ".py",
   "mimetype": "text/x-python",
   "name": "python",
   "nbconvert_exporter": "python",
   "pygments_lexer": "ipython3",
   "version": "3.9.9"
  },
  "orig_nbformat": 4
 },
 "nbformat": 4,
 "nbformat_minor": 2
}
